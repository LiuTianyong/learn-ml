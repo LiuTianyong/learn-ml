{
 "cells": [
  {
   "cell_type": "code",
   "execution_count": 51,
   "metadata": {},
   "outputs": [],
   "source": [
    "from sklearn.ensemble import RandomForestClassifier\n",
    "from sklearn.tree import DecisionTreeClassifier\n",
    "from sklearn.model_selection import train_test_split\n",
    "from sklearn.model_selection import cross_val_score\n",
    "\n",
    "import pandas as pd\n",
    "import numpy as np\n",
    "import matplotlib.pyplot as plt\n",
    "\n",
    "from sklearn.datasets import load_wine"
   ]
  },
  {
   "cell_type": "code",
   "execution_count": 52,
   "metadata": {},
   "outputs": [],
   "source": [
    "%matplotlib inline"
   ]
  },
  {
   "cell_type": "code",
   "execution_count": 53,
   "metadata": {},
   "outputs": [
    {
     "data": {
      "text/plain": [
       "(178, 13)"
      ]
     },
     "execution_count": 53,
     "metadata": {},
     "output_type": "execute_result"
    }
   ],
   "source": [
    "wine = load_wine()\n",
    "wine.data.shape"
   ]
  },
  {
   "cell_type": "code",
   "execution_count": 54,
   "metadata": {},
   "outputs": [
    {
     "data": {
      "text/plain": [
       "array([0, 0, 0, 0, 0, 0, 0, 0, 0, 0, 0, 0, 0, 0, 0, 0, 0, 0, 0, 0, 0, 0,\n",
       "       0, 0, 0, 0, 0, 0, 0, 0, 0, 0, 0, 0, 0, 0, 0, 0, 0, 0, 0, 0, 0, 0,\n",
       "       0, 0, 0, 0, 0, 0, 0, 0, 0, 0, 0, 0, 0, 0, 0, 1, 1, 1, 1, 1, 1, 1,\n",
       "       1, 1, 1, 1, 1, 1, 1, 1, 1, 1, 1, 1, 1, 1, 1, 1, 1, 1, 1, 1, 1, 1,\n",
       "       1, 1, 1, 1, 1, 1, 1, 1, 1, 1, 1, 1, 1, 1, 1, 1, 1, 1, 1, 1, 1, 1,\n",
       "       1, 1, 1, 1, 1, 1, 1, 1, 1, 1, 1, 1, 1, 1, 1, 1, 1, 1, 1, 1, 2, 2,\n",
       "       2, 2, 2, 2, 2, 2, 2, 2, 2, 2, 2, 2, 2, 2, 2, 2, 2, 2, 2, 2, 2, 2,\n",
       "       2, 2, 2, 2, 2, 2, 2, 2, 2, 2, 2, 2, 2, 2, 2, 2, 2, 2, 2, 2, 2, 2,\n",
       "       2, 2])"
      ]
     },
     "execution_count": 54,
     "metadata": {},
     "output_type": "execute_result"
    }
   ],
   "source": [
    "wine.target"
   ]
  },
  {
   "cell_type": "code",
   "execution_count": 55,
   "metadata": {},
   "outputs": [],
   "source": [
    "Xtrain,Xtest,Ytrain,Ytest = train_test_split(wine.data,wine.target,test_size=0.3)"
   ]
  },
  {
   "cell_type": "code",
   "execution_count": 74,
   "metadata": {},
   "outputs": [
    {
     "data": {
      "text/plain": [
       "[DecisionTreeClassifier(max_features='auto', random_state=186422792),\n",
       " DecisionTreeClassifier(max_features='auto', random_state=735107864),\n",
       " DecisionTreeClassifier(max_features='auto', random_state=1195587395),\n",
       " DecisionTreeClassifier(max_features='auto', random_state=1769725799),\n",
       " DecisionTreeClassifier(max_features='auto', random_state=1823289175),\n",
       " DecisionTreeClassifier(max_features='auto', random_state=113311823),\n",
       " DecisionTreeClassifier(max_features='auto', random_state=1480802224),\n",
       " DecisionTreeClassifier(max_features='auto', random_state=638252938),\n",
       " DecisionTreeClassifier(max_features='auto', random_state=20267358),\n",
       " DecisionTreeClassifier(max_features='auto', random_state=673068980),\n",
       " DecisionTreeClassifier(max_features='auto', random_state=522135394),\n",
       " DecisionTreeClassifier(max_features='auto', random_state=800870453),\n",
       " DecisionTreeClassifier(max_features='auto', random_state=733361730),\n",
       " DecisionTreeClassifier(max_features='auto', random_state=902405858),\n",
       " DecisionTreeClassifier(max_features='auto', random_state=1399526926),\n",
       " DecisionTreeClassifier(max_features='auto', random_state=1944503074),\n",
       " DecisionTreeClassifier(max_features='auto', random_state=587150321),\n",
       " DecisionTreeClassifier(max_features='auto', random_state=1589750512),\n",
       " DecisionTreeClassifier(max_features='auto', random_state=322523416),\n",
       " DecisionTreeClassifier(max_features='auto', random_state=273507983),\n",
       " DecisionTreeClassifier(max_features='auto', random_state=1680714980),\n",
       " DecisionTreeClassifier(max_features='auto', random_state=533915499),\n",
       " DecisionTreeClassifier(max_features='auto', random_state=898516284),\n",
       " DecisionTreeClassifier(max_features='auto', random_state=100277818),\n",
       " DecisionTreeClassifier(max_features='auto', random_state=795978640),\n",
       " DecisionTreeClassifier(max_features='auto', random_state=267560443),\n",
       " DecisionTreeClassifier(max_features='auto', random_state=465475209),\n",
       " DecisionTreeClassifier(max_features='auto', random_state=24984669),\n",
       " DecisionTreeClassifier(max_features='auto', random_state=943593558),\n",
       " DecisionTreeClassifier(max_features='auto', random_state=1320372610),\n",
       " DecisionTreeClassifier(max_features='auto', random_state=2055673499),\n",
       " DecisionTreeClassifier(max_features='auto', random_state=1933526892),\n",
       " DecisionTreeClassifier(max_features='auto', random_state=1338668932),\n",
       " DecisionTreeClassifier(max_features='auto', random_state=543975839),\n",
       " DecisionTreeClassifier(max_features='auto', random_state=738481025),\n",
       " DecisionTreeClassifier(max_features='auto', random_state=339250317),\n",
       " DecisionTreeClassifier(max_features='auto', random_state=1358174965),\n",
       " DecisionTreeClassifier(max_features='auto', random_state=1337251539),\n",
       " DecisionTreeClassifier(max_features='auto', random_state=1177137764),\n",
       " DecisionTreeClassifier(max_features='auto', random_state=568583172),\n",
       " DecisionTreeClassifier(max_features='auto', random_state=1854155355),\n",
       " DecisionTreeClassifier(max_features='auto', random_state=856240059),\n",
       " DecisionTreeClassifier(max_features='auto', random_state=1889913667),\n",
       " DecisionTreeClassifier(max_features='auto', random_state=609734791),\n",
       " DecisionTreeClassifier(max_features='auto', random_state=1364293681),\n",
       " DecisionTreeClassifier(max_features='auto', random_state=1803988399),\n",
       " DecisionTreeClassifier(max_features='auto', random_state=1443589825),\n",
       " DecisionTreeClassifier(max_features='auto', random_state=1283664189),\n",
       " DecisionTreeClassifier(max_features='auto', random_state=753382158),\n",
       " DecisionTreeClassifier(max_features='auto', random_state=295259831),\n",
       " DecisionTreeClassifier(max_features='auto', random_state=1601301447),\n",
       " DecisionTreeClassifier(max_features='auto', random_state=767185659),\n",
       " DecisionTreeClassifier(max_features='auto', random_state=24431952),\n",
       " DecisionTreeClassifier(max_features='auto', random_state=139902978),\n",
       " DecisionTreeClassifier(max_features='auto', random_state=1084162937),\n",
       " DecisionTreeClassifier(max_features='auto', random_state=630035049),\n",
       " DecisionTreeClassifier(max_features='auto', random_state=1269860830),\n",
       " DecisionTreeClassifier(max_features='auto', random_state=610166163),\n",
       " DecisionTreeClassifier(max_features='auto', random_state=65519586),\n",
       " DecisionTreeClassifier(max_features='auto', random_state=349562943),\n",
       " DecisionTreeClassifier(max_features='auto', random_state=424529077),\n",
       " DecisionTreeClassifier(max_features='auto', random_state=2058105115),\n",
       " DecisionTreeClassifier(max_features='auto', random_state=445837112),\n",
       " DecisionTreeClassifier(max_features='auto', random_state=1659657454),\n",
       " DecisionTreeClassifier(max_features='auto', random_state=451605873),\n",
       " DecisionTreeClassifier(max_features='auto', random_state=1891782558),\n",
       " DecisionTreeClassifier(max_features='auto', random_state=1640434608),\n",
       " DecisionTreeClassifier(max_features='auto', random_state=1738419503),\n",
       " DecisionTreeClassifier(max_features='auto', random_state=156663463),\n",
       " DecisionTreeClassifier(max_features='auto', random_state=1899466605),\n",
       " DecisionTreeClassifier(max_features='auto', random_state=1676804902),\n",
       " DecisionTreeClassifier(max_features='auto', random_state=129378476),\n",
       " DecisionTreeClassifier(max_features='auto', random_state=2065539346),\n",
       " DecisionTreeClassifier(max_features='auto', random_state=1185433792),\n",
       " DecisionTreeClassifier(max_features='auto', random_state=257448888),\n",
       " DecisionTreeClassifier(max_features='auto', random_state=218864546),\n",
       " DecisionTreeClassifier(max_features='auto', random_state=1677382069),\n",
       " DecisionTreeClassifier(max_features='auto', random_state=1636697802),\n",
       " DecisionTreeClassifier(max_features='auto', random_state=330289425),\n",
       " DecisionTreeClassifier(max_features='auto', random_state=125695560),\n",
       " DecisionTreeClassifier(max_features='auto', random_state=1041442317),\n",
       " DecisionTreeClassifier(max_features='auto', random_state=1962271338),\n",
       " DecisionTreeClassifier(max_features='auto', random_state=559135774),\n",
       " DecisionTreeClassifier(max_features='auto', random_state=755146769),\n",
       " DecisionTreeClassifier(max_features='auto', random_state=351509557),\n",
       " DecisionTreeClassifier(max_features='auto', random_state=508106820),\n",
       " DecisionTreeClassifier(max_features='auto', random_state=87785394),\n",
       " DecisionTreeClassifier(max_features='auto', random_state=1558839784),\n",
       " DecisionTreeClassifier(max_features='auto', random_state=902057307),\n",
       " DecisionTreeClassifier(max_features='auto', random_state=321550811),\n",
       " DecisionTreeClassifier(max_features='auto', random_state=191920083),\n",
       " DecisionTreeClassifier(max_features='auto', random_state=1396271797),\n",
       " DecisionTreeClassifier(max_features='auto', random_state=1155840846),\n",
       " DecisionTreeClassifier(max_features='auto', random_state=1443675136),\n",
       " DecisionTreeClassifier(max_features='auto', random_state=1076727821),\n",
       " DecisionTreeClassifier(max_features='auto', random_state=323818681),\n",
       " DecisionTreeClassifier(max_features='auto', random_state=1227912652),\n",
       " DecisionTreeClassifier(max_features='auto', random_state=48965994),\n",
       " DecisionTreeClassifier(max_features='auto', random_state=1513525379),\n",
       " DecisionTreeClassifier(max_features='auto', random_state=207964742)]"
      ]
     },
     "execution_count": 74,
     "metadata": {},
     "output_type": "execute_result"
    }
   ],
   "source": [
    "rfc = RandomForestClassifier(random_state=100)\n",
    "rfc.fit(Xtrain,Ytrain)\n",
    "\n",
    "score_rfc = rfc.score(Xtest,Ytest)\n",
    "score_rfc\n",
    "#  输出森林状态\n",
    "rfc.estimators_"
   ]
  },
  {
   "cell_type": "code",
   "execution_count": 57,
   "metadata": {},
   "outputs": [
    {
     "data": {
      "text/plain": [
       "0.9074074074074074"
      ]
     },
     "execution_count": 57,
     "metadata": {},
     "output_type": "execute_result"
    }
   ],
   "source": [
    "dc = DecisionTreeClassifier(random_state=100)\n",
    "dc.fit(Xtrain,Ytrain)\n",
    "score_dc = dc.score(Xtest,Ytest)\n",
    "score_dc"
   ]
  },
  {
   "cell_type": "code",
   "execution_count": 58,
   "metadata": {},
   "outputs": [
    {
     "name": "stdout",
     "output_type": "stream",
     "text": [
      "tree score: 0.9074074074074074 \n",
      " random forest score: 0.9814814814814815\n"
     ]
    }
   ],
   "source": [
    "print(\"tree score: {} \\n\".format(score_dc),\n",
    "\"random forest score: {}\".format(score_rfc))"
   ]
  },
  {
   "cell_type": "code",
   "execution_count": 62,
   "metadata": {},
   "outputs": [],
   "source": [
    "# 交叉验证\n",
    "\n",
    "rfc_scores = cross_val_score(rfc,wine.data, wine.target,cv=10)\n",
    "dc_scores = cross_val_score(dc,wine.data, wine.target,cv=10)\n"
   ]
  },
  {
   "cell_type": "code",
   "execution_count": 65,
   "metadata": {},
   "outputs": [
    {
     "data": {
      "image/png": "[encoded data removed]",
      "text/plain": [
       "<Figure size 432x288 with 1 Axes>"
      ]
     },
     "metadata": {
      "needs_background": "light"
     },
     "output_type": "display_data"
    }
   ],
   "source": [
    "\n",
    "\n",
    "plt.figure()\n",
    "plt.plot(range(1,11),rfc_scores,label=\"random forest\")\n",
    "plt.plot(range(1,11),dc_scores,label=\"decision tree\")\n",
    "plt.legend()\n",
    "plt.show()"
   ]
  },
  {
   "cell_type": "code",
   "execution_count": 68,
   "metadata": {},
   "outputs": [
    {
     "data": {
      "image/png": "[encoded data removed]",
      "text/plain": [
       "<Figure size 432x288 with 1 Axes>"
      ]
     },
     "metadata": {
      "needs_background": "light"
     },
     "output_type": "display_data"
    }
   ],
   "source": [
    "rfc_score_list = []\n",
    "dc_score_list = []\n",
    "for i in range(10):\n",
    "    rfc = RandomForestClassifier(n_estimators=25)\n",
    "    rfc_score = cross_val_score(rfc,wine.data,wine.target,cv=10).mean()\n",
    "    rfc_score_list.append(rfc_score)\n",
    "\n",
    "    dc = DecisionTreeClassifier()\n",
    "    dc_score = cross_val_score(dc,wine.data,wine.target,cv=10).mean()\n",
    "    dc_score_list.append(dc_score)\n",
    "\n",
    "plt.figure()\n",
    "plt.plot(range(1,11),rfc_score_list,label=\"random forest\")\n",
    "plt.plot(range(1,11),dc_score_list,label=\"decision tree\")\n",
    "plt.legend()\n",
    "plt.show()"
   ]
  },
  {
   "cell_type": "code",
   "execution_count": 66,
   "metadata": {},
   "outputs": [
    {
     "name": "stdout",
     "output_type": "stream",
     "text": [
      "0.9888888888888889 22\n"
     ]
    },
    {
     "data": {
      "image/png": "[encoded data removed]",
      "text/plain": [
       "<Figure size 1440x360 with 1 Axes>"
      ]
     },
     "metadata": {
      "needs_background": "light"
     },
     "output_type": "display_data"
    }
   ],
   "source": [
    "superpa = []\n",
    "for i in range(200):\n",
    "    rfc = RandomForestClassifier(n_estimators=i+1,n_jobs=-1)\n",
    "    rfc_s = cross_val_score(rfc,wine.data,wine.target,cv=10).mean()\n",
    "    superpa.append(rfc_s)\n",
    "print(max(superpa),superpa.index(max(superpa)))\n",
    "plt.figure(figsize=[20,5])\n",
    "plt.plot(range(1,201),superpa)\n",
    "plt.show()"
   ]
  },
  {
   "cell_type": "code",
   "execution_count": 75,
   "metadata": {},
   "outputs": [
    {
     "data": {
      "text/plain": [
       "0.9775280898876404"
      ]
     },
     "execution_count": 75,
     "metadata": {},
     "output_type": "execute_result"
    }
   ],
   "source": [
    "rfc = RandomForestClassifier(n_estimators=22,oob_score=True)\n",
    "rfc = rfc.fit(wine.data,wine.target)\n",
    "\n",
    "rfc.oob_score_"
   ]
  },
  {
   "cell_type": "code",
   "execution_count": 76,
   "metadata": {},
   "outputs": [
    {
     "data": {
      "text/plain": [
       "array([0.09495086, 0.03276288, 0.01456749, 0.01326259, 0.01393397,\n",
       "       0.03631265, 0.18414   , 0.003398  , 0.01756472, 0.16875835,\n",
       "       0.10652719, 0.14385985, 0.16996146])"
      ]
     },
     "execution_count": 76,
     "metadata": {},
     "output_type": "execute_result"
    }
   ],
   "source": [
    "rfc.feature_importances_"
   ]
  },
  {
   "cell_type": "code",
   "execution_count": 77,
   "metadata": {},
   "outputs": [
    {
     "data": {
      "text/plain": [
       "array([[0.  , 0.96, 0.04],\n",
       "       [0.  , 1.  , 0.  ],\n",
       "       [1.  , 0.  , 0.  ],\n",
       "       [0.96, 0.  , 0.04],\n",
       "       [0.  , 1.  , 0.  ],\n",
       "       [0.96, 0.04, 0.  ],\n",
       "       [0.84, 0.08, 0.08],\n",
       "       [0.  , 1.  , 0.  ],\n",
       "       [0.68, 0.32, 0.  ],\n",
       "       [0.96, 0.  , 0.04],\n",
       "       [0.08, 0.76, 0.16],\n",
       "       [1.  , 0.  , 0.  ],\n",
       "       [1.  , 0.  , 0.  ],\n",
       "       [0.96, 0.04, 0.  ],\n",
       "       [0.08, 0.88, 0.04],\n",
       "       [0.  , 1.  , 0.  ],\n",
       "       [0.  , 0.12, 0.88],\n",
       "       [0.  , 0.  , 1.  ],\n",
       "       [0.  , 0.24, 0.76],\n",
       "       [0.  , 0.08, 0.92],\n",
       "       [0.28, 0.72, 0.  ],\n",
       "       [0.88, 0.04, 0.08],\n",
       "       [0.  , 0.04, 0.96],\n",
       "       [0.  , 0.48, 0.52],\n",
       "       [0.  , 0.04, 0.96],\n",
       "       [0.04, 0.04, 0.92],\n",
       "       [0.04, 0.  , 0.96],\n",
       "       [0.  , 1.  , 0.  ],\n",
       "       [0.  , 0.92, 0.08],\n",
       "       [0.84, 0.12, 0.04],\n",
       "       [0.96, 0.  , 0.04],\n",
       "       [1.  , 0.  , 0.  ],\n",
       "       [0.8 , 0.12, 0.08],\n",
       "       [0.08, 0.92, 0.  ],\n",
       "       [1.  , 0.  , 0.  ],\n",
       "       [0.12, 0.08, 0.8 ],\n",
       "       [0.  , 0.32, 0.68],\n",
       "       [0.88, 0.08, 0.04],\n",
       "       [0.04, 0.08, 0.88],\n",
       "       [0.  , 0.96, 0.04],\n",
       "       [0.  , 1.  , 0.  ],\n",
       "       [0.  , 0.28, 0.72],\n",
       "       [0.  , 0.04, 0.96],\n",
       "       [0.96, 0.  , 0.04],\n",
       "       [0.96, 0.  , 0.04],\n",
       "       [0.  , 0.36, 0.64],\n",
       "       [0.  , 0.04, 0.96],\n",
       "       [0.92, 0.  , 0.08],\n",
       "       [0.04, 0.04, 0.92],\n",
       "       [0.96, 0.  , 0.04],\n",
       "       [0.  , 0.04, 0.96],\n",
       "       [0.04, 0.88, 0.08],\n",
       "       [0.  , 1.  , 0.  ],\n",
       "       [0.  , 0.08, 0.92]])"
      ]
     },
     "execution_count": 77,
     "metadata": {},
     "output_type": "execute_result"
    }
   ],
   "source": [
    "rfc = RandomForestClassifier(n_estimators=25)\n",
    "rfc = rfc.fit(Xtrain, Ytrain)\n",
    "rfc.score(Xtest,Ytest)\n",
    "rfc.feature_importances_\n",
    "rfc.apply(Xtest)\n",
    "rfc.predict(Xtest)\n",
    "rfc.predict_proba(Xtest)"
   ]
  }
 ],
 "metadata": {
  "kernelspec": {
   "display_name": "Python 3.7.13 ('learn-ml')",
   "language": "python",
   "name": "python3"
  },
  "language_info": {
   "codemirror_mode": {
    "name": "ipython",
    "version": 3
   },
   "file_extension": ".py",
   "mimetype": "text/x-python",
   "name": "python",
   "nbconvert_exporter": "python",
   "pygments_lexer": "ipython3",
   "version": "3.7.13"
  },
  "orig_nbformat": 4,
  "vscode": {
   "interpreter": {
    "hash": "40bce4c6af1d83bc93abc4e1dae3b1e2b0777ecb55f3202b180819ef28418d08"
   }
  }
 },
 "nbformat": 4,
 "nbformat_minor": 2
}
