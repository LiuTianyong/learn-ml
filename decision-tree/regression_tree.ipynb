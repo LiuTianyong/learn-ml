{
 "cells": [
  {
   "cell_type": "code",
   "execution_count": 3,
   "metadata": {
    "pycharm": {
     "name": "#%%\n"
    }
   },
   "outputs": [],
   "source": [
    "from sklearn.tree import DecisionTreeRegressor\n",
    "from sklearn.datasets import load_boston\n",
    "from sklearn.model_selection import cross_val_score\n",
    "import pandas as pd\n",
    "import numpy as np  "
   ]
  },
  {
   "cell_type": "code",
   "execution_count": null,
   "metadata": {
    "pycharm": {
     "name": "#%%\n"
    }
   },
   "outputs": [],
   "source": [
    "boston = load_boston()\n",
    "\n",
    "boston.target"
   ]
  },
  {
   "cell_type": "code",
   "execution_count": 9,
   "metadata": {
    "pycharm": {
     "name": "#%%\n"
    }
   },
   "outputs": [
    {
     "data": {
      "text/plain": [
       "(506, 13)"
      ]
     },
     "execution_count": 9,
     "metadata": {},
     "output_type": "execute_result"
    }
   ],
   "source": [
    "boston.data.shape"
   ]
  },
  {
   "cell_type": "code",
   "execution_count": 10,
   "metadata": {
    "pycharm": {
     "name": "#%%\n"
    }
   },
   "outputs": [
    {
     "data": {
      "text/plain": [
       "(506,)"
      ]
     },
     "execution_count": 10,
     "metadata": {},
     "output_type": "execute_result"
    }
   ],
   "source": [
    "boston.target.shape"
   ]
  },
  {
   "cell_type": "code",
   "execution_count": 12,
   "metadata": {
    "pycharm": {
     "name": "#%%\n"
    }
   },
   "outputs": [
    {
     "data": {
      "text/plain": [
       "array([-16.04901961, -12.11803922, -17.27156863, -93.11607843,\n",
       "       -16.18568627, -35.72960784, -13.3936    , -86.9262    ,\n",
       "       -99.4826    , -17.387     ])"
      ]
     },
     "execution_count": 12,
     "metadata": {},
     "output_type": "execute_result"
    }
   ],
   "source": [
    "model = DecisionTreeRegressor(random_state=10)\n",
    "cross_val_score(\n",
    "    model,\n",
    "    boston.data,\n",
    "    boston.target,\n",
    "    cv=10,\n",
    "    scoring=\"neg_mean_squared_error\"\n",
    ")"
   ]
  },
  {
   "cell_type": "code",
   "execution_count": 13,
   "metadata": {
    "pycharm": {
     "name": "#%%\n"
    }
   },
   "outputs": [],
   "source": [
    "import numpy as np\n",
    "from sklearn.tree import DecisionTreeRegressor\n",
    "import matplotlib.pyplot as plt\n"
   ]
  },
  {
   "cell_type": "code",
   "execution_count": null,
   "metadata": {
    "pycharm": {
     "name": "#%%\n"
    }
   },
   "outputs": [],
   "source": [
    "rng = np.random.RandomState(1)\n",
    "5 * rng.rand(80,3)"
   ]
  },
  {
   "cell_type": "code",
   "execution_count": 23,
   "metadata": {
    "pycharm": {
     "name": "#%%\n"
    }
   },
   "outputs": [],
   "source": [
    "x = np.sort(5*rng.rand(80,1),axis=0)\n",
    "y = np.sin(x).ravel()"
   ]
  },
  {
   "cell_type": "code",
   "execution_count": 25,
   "metadata": {
    "pycharm": {
     "name": "#%%\n"
    }
   },
   "outputs": [
    {
     "data": {
      "text/plain": [
       "<matplotlib.collections.PathCollection at 0x19daea94888>"
      ]
     },
     "execution_count": 25,
     "metadata": {},
     "output_type": "execute_result"
    },
    {
     "data": {
      "image/png": "[encoded data removed]",
      "text/plain": [
       "<Figure size 432x288 with 1 Axes>"
      ]
     },
     "metadata": {
      "needs_background": "light"
     },
     "output_type": "display_data"
    }
   ],
   "source": [
    "from cProfile import label\n",
    "\n",
    "\n",
    "plt.figure()\n",
    "plt.scatter(x,y,s=20,edgecolors=\"black\",c=\"darkorange\",label='data')\n"
   ]
  },
  {
   "cell_type": "code",
   "execution_count": 26,
   "metadata": {
    "pycharm": {
     "name": "#%%\n"
    }
   },
   "outputs": [
    {
     "data": {
      "text/plain": [
       "array([ 1.47798048e+00,  5.44167768e-02,  6.56345685e-02,  1.61422243e-01,\n",
       "        2.80986625e-01,  2.63822547e-01,  4.23595681e-01,  4.51000035e-01,\n",
       "        5.84377488e-01,  6.06522101e-01, -2.94730403e-01,  7.44587362e-01,\n",
       "        7.66645837e-01,  7.66792614e-01,  7.99012984e-01,  2.35392667e+00,\n",
       "        9.07186836e-01,  9.08425191e-01,  9.10324894e-01,  9.32681929e-01,\n",
       "        4.27389329e-01,  9.92771229e-01,  9.99907858e-01,  9.99965643e-01,\n",
       "        9.99999409e-01,  4.39155781e-01,  9.98250987e-01,  9.92476433e-01,\n",
       "        9.84875620e-01,  9.81195787e-01,  1.11173210e+00,  9.53432292e-01,\n",
       "        8.78952156e-01,  8.46416049e-01,  7.72600459e-01, -4.75334218e-01,\n",
       "        7.54287407e-01,  7.32715544e-01,  7.16275990e-01,  6.86875388e-01,\n",
       "        1.96668541e-01,  6.09430578e-01,  5.80218390e-01,  5.27159720e-01,\n",
       "        5.19711076e-01,  1.98299233e+00,  3.41967566e-01,  2.84048011e-01,\n",
       "        2.67210600e-01,  2.54966423e-01,  2.15630440e-01,  1.62824798e-01,\n",
       "        1.05922768e-01,  4.74659830e-05, -2.14847771e-02, -1.25592046e+00,\n",
       "       -2.00698815e-01, -2.25691105e-01, -3.04626900e-01, -3.59554103e-01,\n",
       "       -1.47838368e+00, -5.91457039e-01, -6.05026101e-01, -6.40985624e-01,\n",
       "       -6.51194338e-01, -1.25511794e+00, -8.09078763e-01, -8.30272569e-01,\n",
       "       -8.81984713e-01, -9.15139552e-01, -1.50024247e+00, -9.91515198e-01,\n",
       "       -9.93806279e-01, -9.98591407e-01, -9.99606707e-01, -1.22403715e+00,\n",
       "       -9.86523080e-01, -9.85995244e-01, -9.78129143e-01, -9.63402386e-01])"
      ]
     },
     "execution_count": 26,
     "metadata": {},
     "output_type": "execute_result"
    }
   ],
   "source": [
    "y[::5] += 3 * (0.5 - rng.rand(16))"
   ]
  },
  {
   "cell_type": "code",
   "execution_count": 28,
   "metadata": {
    "pycharm": {
     "name": "#%%\n"
    }
   },
   "outputs": [
    {
     "data": {
      "text/plain": [
       "<matplotlib.collections.PathCollection at 0x19daf9c2e88>"
      ]
     },
     "execution_count": 28,
     "metadata": {},
     "output_type": "execute_result"
    },
    {
     "data": {
      "image/png": "[encoded data removed]",
      "text/plain": [
       "<Figure size 432x288 with 1 Axes>"
      ]
     },
     "metadata": {
      "needs_background": "light"
     },
     "output_type": "display_data"
    }
   ],
   "source": [
    "plt.figure()\n",
    "plt.scatter(x,y,s=20,edgecolors=\"black\",c=\"darkorange\",label='data')"
   ]
  },
  {
   "cell_type": "code",
   "execution_count": 34,
   "metadata": {
    "pycharm": {
     "name": "#%%\n"
    }
   },
   "outputs": [
    {
     "data": {
      "text/plain": [
       "DecisionTreeRegressor(max_depth=10, random_state=10)"
      ]
     },
     "execution_count": 34,
     "metadata": {},
     "output_type": "execute_result"
    }
   ],
   "source": [
    "regr_1 = DecisionTreeRegressor(random_state=10,max_depth=2)\n",
    "regr_2 = DecisionTreeRegressor(random_state=10,max_depth=10)\n",
    "regr_1.fit(x,y)\n",
    "regr_2.fit(x,y)\n"
   ]
  },
  {
   "cell_type": "code",
   "execution_count": 35,
   "metadata": {
    "pycharm": {
     "name": "#%%\n"
    }
   },
   "outputs": [],
   "source": [
    "x_test = np.arange(0.0,5.0,0.001)[:,np.newaxis]\n",
    "y1 = regr_1.predict(x_test)\n",
    "y2 = regr_2.predict(x_test)"
   ]
  },
  {
   "cell_type": "code",
   "execution_count": 39,
   "metadata": {
    "pycharm": {
     "name": "#%%\n"
    }
   },
   "outputs": [
    {
     "data": {
      "image/png": "[encoded data removed]",
      "text/plain": [
       "<Figure size 432x288 with 1 Axes>"
      ]
     },
     "metadata": {
      "needs_background": "light"
     },
     "output_type": "display_data"
    }
   ],
   "source": [
    "plt.figure()\n",
    "plt.scatter(x, y, s=20, edgecolor=\"black\",c=\"darkorange\", label=\"data\")\n",
    "plt.plot(x_test, y1, color=\"cornflowerblue\",label=\"max_depth=2\", linewidth=2)\n",
    "plt.plot(x_test, y2, color=\"yellowgreen\", label=\"max_depth=5\", linewidth=2)\n",
    "plt.xlabel(\"data\")\n",
    "plt.ylabel(\"target\")\n",
    "plt.title(\"Decision Tree Regression\")\n",
    "plt.legend()\n",
    "plt.show()"
   ]
  }
 ],
 "metadata": {
  "kernelspec": {
   "display_name": "Python 3.7.13 ('learn-ml')",
   "language": "python",
   "name": "python3"
  },
  "language_info": {
   "codemirror_mode": {
    "name": "ipython",
    "version": 3
   },
   "file_extension": ".py",
   "mimetype": "text/x-python",
   "name": "python",
   "nbconvert_exporter": "python",
   "pygments_lexer": "ipython3",
   "version": "3.7.13"
  },
  "orig_nbformat": 4,
  "vscode": {
   "interpreter": {
    "hash": "40bce4c6af1d83bc93abc4e1dae3b1e2b0777ecb55f3202b180819ef28418d08"
   }
  }
 },
 "nbformat": 4,
 "nbformat_minor": 2
}